{
 "cells": [
  {
   "cell_type": "code",
   "execution_count": 1,
   "metadata": {},
   "outputs": [],
   "source": [
    "from nltk.tokenize import sent_tokenize, word_tokenize"
   ]
  },
  {
   "cell_type": "code",
   "execution_count": 2,
   "metadata": {},
   "outputs": [],
   "source": [
    "text = 'Hello Mr. Bhardwaj! How do you do? What kind of music do you enjoy? I\\'m in love with Steven Wilson. XOXO'"
   ]
  },
  {
   "cell_type": "code",
   "execution_count": 3,
   "metadata": {},
   "outputs": [
    {
     "name": "stdout",
     "output_type": "stream",
     "text": [
      "['Hello Mr. Bhardwaj!', 'How do you do?', 'What kind of music do you enjoy?', \"I'm in love with Steven Wilson.\", 'XOXO']\n"
     ]
    }
   ],
   "source": [
    "print(sent_tokenize(text))"
   ]
  },
  {
   "cell_type": "code",
   "execution_count": 4,
   "metadata": {},
   "outputs": [
    {
     "name": "stdout",
     "output_type": "stream",
     "text": [
      "['Hello', 'Mr.', 'Bhardwaj', '!', 'How', 'do', 'you', 'do', '?', 'What', 'kind', 'of', 'music', 'do', 'you', 'enjoy', '?', 'I', \"'m\", 'in', 'love', 'with', 'Steven', 'Wilson', '.', 'XOXO']\n"
     ]
    }
   ],
   "source": [
    "print(word_tokenize(text))"
   ]
  },
  {
   "cell_type": "code",
   "execution_count": 5,
   "metadata": {
    "scrolled": true
   },
   "outputs": [
    {
     "name": "stdout",
     "output_type": "stream",
     "text": [
      "Hello\n",
      "Mr.\n",
      "Bhardwaj\n",
      "!\n",
      "How\n",
      "do\n",
      "you\n",
      "do\n",
      "?\n",
      "What\n",
      "kind\n",
      "of\n",
      "music\n",
      "do\n",
      "you\n",
      "enjoy\n",
      "?\n",
      "I\n",
      "'m\n",
      "in\n",
      "love\n",
      "with\n",
      "Steven\n",
      "Wilson\n",
      ".\n",
      "XOXO\n"
     ]
    }
   ],
   "source": [
    "for i in word_tokenize(text):\n",
    "    print(i)"
   ]
  },
  {
   "cell_type": "markdown",
   "metadata": {},
   "source": [
    "**Interesting note:** Each punctuation is treated as a different word when using word tokenizer. Even I'm is split to I and 'm as different words."
   ]
  },
  {
   "cell_type": "code",
   "execution_count": null,
   "metadata": {},
   "outputs": [],
   "source": []
  }
 ],
 "metadata": {
  "kernelspec": {
   "display_name": "Python 3",
   "language": "python",
   "name": "python3"
  },
  "language_info": {
   "codemirror_mode": {
    "name": "ipython",
    "version": 3
   },
   "file_extension": ".py",
   "mimetype": "text/x-python",
   "name": "python",
   "nbconvert_exporter": "python",
   "pygments_lexer": "ipython3",
   "version": "3.6.4"
  }
 },
 "nbformat": 4,
 "nbformat_minor": 2
}
