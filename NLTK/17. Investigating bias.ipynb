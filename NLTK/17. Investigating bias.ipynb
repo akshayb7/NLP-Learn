{
 "cells": [
  {
   "cell_type": "code",
   "execution_count": 2,
   "metadata": {},
   "outputs": [],
   "source": [
    "import nltk\n",
    "from nltk.corpus import movie_reviews\n",
    "from nltk.classify import ClassifierI, accuracy, SklearnClassifier\n",
    "\n",
    "from sklearn.naive_bayes import MultinomialNB, BernoulliNB\n",
    "from sklearn.svm import LinearSVC, NuSVC\n",
    "from sklearn.linear_model import LogisticRegression, SGDClassifier\n",
    "\n",
    "from statistics import mode"
   ]
  },
  {
   "cell_type": "code",
   "execution_count": 3,
   "metadata": {},
   "outputs": [],
   "source": [
    "class VotedClassifier(ClassifierI):\n",
    "    def __init__(self, *classifiers):\n",
    "        self.classifiers = classifiers\n",
    "        \n",
    "    def classify(self, features):\n",
    "        votes = []\n",
    "        for c in self.classifiers:\n",
    "            v = c.classify(features)\n",
    "            votes.append(v)\n",
    "        return mode(votes)\n",
    "    \n",
    "    def confidence(self, features):\n",
    "        votes = []\n",
    "        for c in self.classifiers:\n",
    "            v = c.classify(features)\n",
    "            votes.append(v)\n",
    "        count = votes.count(mode(votes))\n",
    "        conf = count/len(votes)\n",
    "        return conf\n",
    "        "
   ]
  },
  {
   "cell_type": "code",
   "execution_count": 4,
   "metadata": {},
   "outputs": [],
   "source": [
    "documents = [(list(movie_reviews.words(fileid)),category)\n",
    "            for category in movie_reviews.categories()\n",
    "            for fileid in movie_reviews.fileids(category)]"
   ]
  },
  {
   "cell_type": "code",
   "execution_count": 6,
   "metadata": {},
   "outputs": [],
   "source": [
    "all_words = []\n",
    "for w in movie_reviews.words():\n",
    "    all_words.append(w.lower())\n",
    "    \n",
    "all_words = nltk.FreqDist(all_words)    "
   ]
  },
  {
   "cell_type": "code",
   "execution_count": 7,
   "metadata": {},
   "outputs": [],
   "source": [
    "feature_words = list(all_words.keys())[:3000]\n",
    "\n",
    "def featurize(document):\n",
    "    words = set(document)\n",
    "    features = {}\n",
    "    for w in feature_words:\n",
    "        features[w] = (w in words)\n",
    "    return features\n",
    "\n",
    "featureset = [(featurize(doc),category)\n",
    "             for (doc, category) in documents]"
   ]
  },
  {
   "cell_type": "code",
   "execution_count": 18,
   "metadata": {},
   "outputs": [],
   "source": [
    "# Comment out the one not being used\n",
    "\n",
    "# Positive Testing Set\n",
    "# training_set = featureset[:1900]\n",
    "# testing_set = featureset[1900:]\n",
    "\n",
    "# Negative Testing Set\n",
    "training_set = featureset[100:]\n",
    "testing_set = featureset[:100]"
   ]
  },
  {
   "cell_type": "code",
   "execution_count": 19,
   "metadata": {},
   "outputs": [
    {
     "name": "stdout",
     "output_type": "stream",
     "text": [
      "Classifier acc: 79.0\n"
     ]
    }
   ],
   "source": [
    "classifier = nltk.NaiveBayesClassifier.train(training_set)\n",
    "print('Classifier acc:', accuracy(classifier,testing_set)*100)"
   ]
  },
  {
   "cell_type": "code",
   "execution_count": 20,
   "metadata": {},
   "outputs": [
    {
     "name": "stdout",
     "output_type": "stream",
     "text": [
      "LogisticRegression_Classifier accuracy: 73.0\n"
     ]
    },
    {
     "name": "stderr",
     "output_type": "stream",
     "text": [
      "C:\\Users\\aksha\\Anaconda3\\lib\\site-packages\\sklearn\\linear_model\\stochastic_gradient.py:128: FutureWarning: max_iter and tol parameters have been added in <class 'sklearn.linear_model.stochastic_gradient.SGDClassifier'> in 0.19. If both are left unset, they default to max_iter=5 and tol=None. If tol is not None, max_iter defaults to max_iter=1000. From 0.21, default max_iter will be 1000, and default tol will be 1e-3.\n",
      "  \"and default tol will be 1e-3.\" % type(self), FutureWarning)\n"
     ]
    },
    {
     "name": "stdout",
     "output_type": "stream",
     "text": [
      "SGDClassifier_Classifier accuracy: 87.0\n",
      "BernoulliNB_Classifier accuracy: 80.0\n",
      "MultinomialNB_Classifier accuracy: 80.0\n",
      "LinearSVC_Classifier accuracy: 72.0\n",
      "NuSVC_Classifier accuracy: 79.0\n"
     ]
    }
   ],
   "source": [
    "LogisticRegression_Classifier = SklearnClassifier(LogisticRegression())\n",
    "LogisticRegression_Classifier.train(training_set)\n",
    "print('LogisticRegression_Classifier accuracy:', accuracy(LogisticRegression_Classifier, testing_set)*100)\n",
    "\n",
    "SGDClassifier_Classifier = SklearnClassifier(SGDClassifier())\n",
    "SGDClassifier_Classifier.train(training_set)\n",
    "print('SGDClassifier_Classifier accuracy:', accuracy(SGDClassifier_Classifier, testing_set)*100)\n",
    "\n",
    "BernoulliNB_Classifier = SklearnClassifier(BernoulliNB())\n",
    "BernoulliNB_Classifier.train(training_set)\n",
    "print('BernoulliNB_Classifier accuracy:', accuracy(BernoulliNB_Classifier, testing_set)*100)\n",
    "\n",
    "MultinomialNB_Classifier = SklearnClassifier(MultinomialNB())\n",
    "MultinomialNB_Classifier.train(training_set)\n",
    "print('MultinomialNB_Classifier accuracy:', accuracy(MultinomialNB_Classifier, testing_set)*100)\n",
    "\n",
    "LinearSVC_Classifier = SklearnClassifier(LinearSVC())\n",
    "LinearSVC_Classifier.train(training_set)\n",
    "print('LinearSVC_Classifier accuracy:', accuracy(LinearSVC_Classifier, testing_set)*100)\n",
    "\n",
    "NuSVC_Classifier = SklearnClassifier(NuSVC())\n",
    "NuSVC_Classifier.train(training_set)\n",
    "print('NuSVC_Classifier accuracy:', accuracy(NuSVC_Classifier, testing_set)*100)"
   ]
  },
  {
   "cell_type": "code",
   "execution_count": 21,
   "metadata": {},
   "outputs": [
    {
     "name": "stdout",
     "output_type": "stream",
     "text": [
      "Voted_classifier accuracy: 86.0\n"
     ]
    }
   ],
   "source": [
    "voted_classifier = VotedClassifier(classifier,\n",
    "                                 LogisticRegression_Classifier,\n",
    "                                 SGDClassifier_Classifier,\n",
    "                                 BernoulliNB_Classifier,\n",
    "                                 MultinomialNB_Classifier,\n",
    "                                 LinearSVC_Classifier,\n",
    "                                 NuSVC_Classifier)\n",
    "print('Voted_classifier accuracy:', accuracy(voted_classifier, testing_set)*100)"
   ]
  },
  {
   "cell_type": "markdown",
   "metadata": {},
   "source": [
    "Well, here both the positive as well as negative testing set is giving good performance."
   ]
  }
 ],
 "metadata": {
  "kernelspec": {
   "display_name": "Python 3",
   "language": "python",
   "name": "python3"
  },
  "language_info": {
   "codemirror_mode": {
    "name": "ipython",
    "version": 3
   },
   "file_extension": ".py",
   "mimetype": "text/x-python",
   "name": "python",
   "nbconvert_exporter": "python",
   "pygments_lexer": "ipython3",
   "version": "3.6.4"
  }
 },
 "nbformat": 4,
 "nbformat_minor": 2
}
