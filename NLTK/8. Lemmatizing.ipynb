{
 "cells": [
  {
   "cell_type": "code",
   "execution_count": 2,
   "metadata": {},
   "outputs": [],
   "source": [
    "from nltk.stem import WordNetLemmatizer"
   ]
  },
  {
   "cell_type": "code",
   "execution_count": 3,
   "metadata": {},
   "outputs": [],
   "source": [
    "lemmatizer = WordNetLemmatizer()"
   ]
  },
  {
   "cell_type": "code",
   "execution_count": 17,
   "metadata": {},
   "outputs": [
    {
     "name": "stdout",
     "output_type": "stream",
     "text": [
      "dog\n",
      "ronaldo\n",
      "cactus\n",
      "comfortable\n",
      "xvt\n",
      "adjective\n",
      "spoke\n"
     ]
    }
   ],
   "source": [
    "print(lemmatizer.lemmatize('dogs'))\n",
    "print(lemmatizer.lemmatize('ronaldo'))\n",
    "print(lemmatizer.lemmatize('cactus'))\n",
    "print(lemmatizer.lemmatize('comfortable'))\n",
    "print(lemmatizer.lemmatize('xvt'))\n",
    "print(lemmatizer.lemmatize('adjective'))\n",
    "print(lemmatizer.lemmatize('spoke'))"
   ]
  },
  {
   "cell_type": "code",
   "execution_count": 22,
   "metadata": {},
   "outputs": [
    {
     "name": "stdout",
     "output_type": "stream",
     "text": [
      "cat\n",
      "best\n",
      "bad\n",
      "better\n",
      "good\n",
      "kick\n",
      "speak\n"
     ]
    }
   ],
   "source": [
    "print(lemmatizer.lemmatize('cats'))\n",
    "print(lemmatizer.lemmatize('best',pos='a'))\n",
    "print(lemmatizer.lemmatize('worst',pos='a'))\n",
    "print(lemmatizer.lemmatize('better'))\n",
    "print(lemmatizer.lemmatize('better',pos='a'))\n",
    "print(lemmatizer.lemmatize('kicking',pos='v'))\n",
    "print(lemmatizer.lemmatize('spoken',pos='v'))"
   ]
  },
  {
   "cell_type": "code",
   "execution_count": 15,
   "metadata": {},
   "outputs": [
    {
     "name": "stdout",
     "output_type": "stream",
     "text": [
      "ebaci\n",
      "eaten\n",
      "eat\n",
      "run\n"
     ]
    }
   ],
   "source": [
    "print(lemmatizer.lemmatize('ebaci'))\n",
    "print(lemmatizer.lemmatize('eaten',pos='a'))\n",
    "print(lemmatizer.lemmatize('eating',pos='v'))\n",
    "print(lemmatizer.lemmatize('running',pos='v'))"
   ]
  },
  {
   "cell_type": "code",
   "execution_count": null,
   "metadata": {},
   "outputs": [],
   "source": []
  }
 ],
 "metadata": {
  "kernelspec": {
   "display_name": "Python 3",
   "language": "python",
   "name": "python3"
  },
  "language_info": {
   "codemirror_mode": {
    "name": "ipython",
    "version": 3
   },
   "file_extension": ".py",
   "mimetype": "text/x-python",
   "name": "python",
   "nbconvert_exporter": "python",
   "pygments_lexer": "ipython3",
   "version": "3.6.4"
  }
 },
 "nbformat": 4,
 "nbformat_minor": 2
}
