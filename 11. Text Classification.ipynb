{
 "cells": [
  {
   "cell_type": "code",
   "execution_count": 5,
   "metadata": {},
   "outputs": [],
   "source": [
    "import nltk\n",
    "import random\n",
    "from nltk.corpus import movie_reviews"
   ]
  },
  {
   "cell_type": "code",
   "execution_count": 6,
   "metadata": {},
   "outputs": [],
   "source": [
    "random.seed(42)"
   ]
  },
  {
   "cell_type": "code",
   "execution_count": 9,
   "metadata": {},
   "outputs": [],
   "source": [
    "documents = []\n",
    "for category in movie_reviews.categories():\n",
    "    for fileid in movie_reviews.fileids(category):\n",
    "        documents.append((list(movie_reviews.words(fileid)),category))"
   ]
  },
  {
   "cell_type": "code",
   "execution_count": 10,
   "metadata": {},
   "outputs": [],
   "source": [
    "# The same code as above can be written as a list comprehension\n",
    "\n",
    "documents = [(list(movie_reviews.words(fileids)),category)\n",
    "            for category in movie_reviews.categories()\n",
    "            for fileids in movie_reviews.fileids(category)]"
   ]
  },
  {
   "cell_type": "code",
   "execution_count": 11,
   "metadata": {},
   "outputs": [],
   "source": [
    "# Random shuffling for training and testing purposes\n",
    "random.shuffle(documents)"
   ]
  },
  {
   "cell_type": "code",
   "execution_count": 12,
   "metadata": {
    "scrolled": true
   },
   "outputs": [
    {
     "name": "stdout",
     "output_type": "stream",
     "text": [
      "(['when', 'casting', 'the', 'key', 'part', 'of', 'the', 'voice', 'of', 'moses', ',', 'most', 'people', \"'\", 's', 'first', 'candidate', 'would', 'probably', 'not', 'be', 'the', 'controversial', 'actor', 'val', 'kilmer', '(', 'the', 'saint', 'and', 'the', 'island', 'of', 'dr', '.', 'moreau', ')', ',', 'but', 'he', 'was', 'dreamworks', \"'\", 's', 'choice', 'in', 'their', 'first', 'traditionally', 'animated', 'movie', ',', 'the', 'prince', 'of', 'egypt', '.', 'the', 'selection', 'of', 'kilmer', 'proved', 'to', 'be', 'a', 'wise', 'one', ',', 'but', 'the', 'biggest', 'risk', 'dreamworks', 'took', 'wasn', \"'\", 't', 'in', 'the', 'casting', 'department', '.', 'the', 'radical', 'departure', 'was', 'that', 'they', 'decided', 'to', 'use', 'the', 'medium', 'of', 'animation', 'to', 'make', 'a', 'biblical', 'epic', ',', 'a', 'la', 'cecil', 'b', '.', 'demille', ',', 'to', 'move', 'our', 'hearts', 'and', 'minds', 'rather', 'than', 'to', 'tickle', 'our', 'funny', 'bones', '.', 'in', 'the', 'press', 'kit', 'producer', 'penney', 'cox', 'says', 'that', 'they', 'wanted', 'to', 'make', 'a', 'film', 'for', 'adults', 'based', 'on', 'sophisticated', 'themes', 'but', 'one', 'that', 'did', 'not', 'exclude', 'children', '.', 'animated', 'movies', 'for', 'adults', 'that', 'are', 'appropriate', 'for', 'kids', 'and', 'that', 'are', 'not', 'comedies', ',', 'now', 'that', 'is', 'something', 'fresh', '.', 'let', 'me', 'admit', 'up', '-', 'front', 'that', 'i', 'was', 'quite', 'skeptical', 'as', 'to', 'whether', 'dreamworks', 'could', 'pull', 'it', 'off', '.', 'dreamworks', \"'\", 's', 'antz', 'seemed', 'to', 'be', 'a', 'movie', 'not', 'quite', 'appropriate', 'for', 'any', 'age', 'group', '.', 'the', 'prince', 'of', 'egypt', 'may', 'be', 'harder', 'to', 'market', 'than', 'antz', ',', 'but', 'it', 'is', 'much', 'more', 'satisfying', '.', 'like', 'antz', 'and', 'unlike', 'the', 'more', 'modest', 'casting', 'of', 'pixar', \"'\", 's', 'a', 'bug', \"'\", 's', 'life', ',', 'the', 'prince', 'of', 'egpyt', 'has', 'half', 'of', 'hollywood', 'doing', 'the', 'voices', '.', 'danny', 'glover', 'is', 'the', 'voice', 'of', 'jethro', ',', 'jeff', 'goldblum', 'of', 'aaron', ',', 'steve', 'martin', 'of', 'hotep', ',', 'helen', 'mirren', 'of', 'the', 'queen', ',', 'michelle', 'pfeiffer', 'of', 'tzipporah', ',', 'martin', 'short', 'of', 'huy', 'and', 'patrick', 'stewart', 'of', 'seti', '.', 'you', 'can', 'figure', 'out', 'for', 'yourself', 'who', 'does', 'the', 'voice', 'of', 'god', '.', 'the', 'movie', ',', 'which', 'is', 'weakest', 'in', 'the', 'story', 'department', ',', 'is', 'a', 'cliff', \"'\", 's', 'notes', 'version', 'of', 'demille', \"'\", 's', 'the', 'ten', 'commandments', '.', 'the', 'script', 'by', 'kelly', 'asbury', 'and', 'lorna', 'cook', 'has', 'an', 'obsession', 'with', 'touching', 'briefly', 'on', 'every', 'classic', 'event', 'in', 'moses', \"'\", 's', 'life', '.', 'demille', 'took', 'over', 'three', 'and', 'a', 'half', 'hours', 'in', 'order', 'to', 'do', 'it', 'justice', '.', 'at', 'less', 'than', 'half', 'of', 'that', ',', 'the', 'prince', 'of', 'egypt', 'rushes', 'through', 'so', 'much', 'material', 'that', 'it', 'doesn', \"'\", 't', 'establish', 'sufficient', 'depth', 'for', 'us', 'to', 'bond', 'with', 'the', 'characters', '.', 'we', 'meet', 'moses', 'when', 'the', 'queen', 'finds', 'him', 'floating', 'in', 'his', 'little', 'basket', '.', 'we', 'watch', 'him', 'grow', 'up', 'and', 'become', 'best', 'bud', 'and', 'a', 'chariot', 'racing', 'partner', 'to', 'ramses', '(', 'ralph', 'fiennes', ')', ',', 'the', 'future', 'pharaoh', '.', 'moses', 'is', 'a', 'free', 'spirit', 'and', 'a', 'practical', 'joker', 'until', 'he', 'finds', 'out', 'his', 'true', 'identity', 'as', 'a', 'jew', '.', '(', '\"', 'all', 'i', \"'\", 've', 'ever', 'known', 'to', 'be', 'true', 'is', 'a', 'lie', ',', '\"', 'moses', 'complains', '.', ')', 'after', 'finding', 'out', 'his', 'real', 'identity', ',', 'he', 'sees', 'for', 'the', 'first', 'time', 'the', 'oppression', 'of', 'the', 'jewish', 'slaves', 'that', 'are', 'all', 'around', 'him', '.', 'after', 'leaving', 'egypt', ',', 'moses', 'comes', 'back', 'to', 'ask', 'ramses', 'to', 'let', 'moses', \"'\", 's', 'people', 'go', '.', 'this', 'leads', 'to', 'the', 'classic', 'scene', 'of', 'the', 'parting', 'of', 'the', 'red', 'sea', ',', 'which', 'is', 'one', 'of', 'many', 'places', 'where', 'computers', 'were', 'used', 'to', 'enhance', 'the', 'traditionally', 'hand', '-', 'drawn', 'animation', 'of', 'the', 'most', 'of', 'the', 'production', '.', 'it', 'is', 'the', 'absolutely', 'stunning', 'visuals', 'that', 'make', 'the', 'movie', 'so', 'compelling', '.', 'drawn', 'with', 'a', 'rich', 'palette', 'of', 'luxurious', 'roses', ',', 'blues', 'and', 'golds', ',', 'the', 'picture', 'looks', 'sumptuous', 'from', 'its', 'first', 'frame', 'to', 'its', 'last', '.', 'the', 'construction', 'of', 'the', 'temple', 'is', 'shown', 'in', 'blowing', 'dust', ',', 'and', 'other', 'scenes', 'are', 'shot', 'with', 'the', 'glow', 'of', 'a', 'rising', 'sun', '.', 'the', 'most', 'original', 'visual', 'sequence', 'in', 'the', 'film', 'occurs', 'during', 'a', 'dream', 'moses', 'has', '.', 'done', 'with', 'an', 'explicit', 'two', '-', 'dimensional', 'look', ',', 'the', 'colorful', 'images', 'painted', 'on', 'the', 'temple', 'walls', 'come', 'to', 'life', 'to', 'tell', 'their', 'own', 'animated', 'story', '.', 'even', 'though', 'it', 'has', 'its', 'weaknesses', ',', 'the', 'prince', 'of', 'egypt', 'is', 'a', 'noble', 'attempt', 'to', 'carve', 'out', 'a', 'new', 'genre', '--', 'serious', 'animated', 'movies', 'for', 'adults', 'that', 'are', 'acceptable', 'for', 'the', 'entire', 'family', '.', 'this', 'awe', '-', 'inspiring', 'movie', 'deserves', 'to', 'be', 'seen', '.', 'the', 'prince', 'of', 'egypt', 'runs', 'about', '1', ':', '30', '.', 'it', 'is', 'rated', 'pg', 'for', 'thematic', 'elements', 'and', 'would', 'be', 'fine', 'for', 'the', 'whole', 'family', '.', 'how', 'old', 'a', 'kid', 'would', 'need', 'to', 'be', 'to', 'be', 'interested', 'depends', 'on', 'the', 'child', ',', 'but', 'those', 'over', '8', 'will', 'probably', 'like', 'it', '.'], 'pos')\n"
     ]
    }
   ],
   "source": [
    "print(documents[1])"
   ]
  },
  {
   "cell_type": "code",
   "execution_count": 14,
   "metadata": {},
   "outputs": [
    {
     "name": "stdout",
     "output_type": "stream",
     "text": [
      "[(',', 77717), ('the', 76529), ('.', 65876), ('a', 38106), ('and', 35576), ('of', 34123), ('to', 31937), (\"'\", 30585), ('is', 25195), ('in', 21822), ('s', 18513), ('\"', 17612), ('it', 16107), ('that', 15924), ('-', 15595), (')', 11781), ('(', 11664), ('as', 11378), ('with', 10792), ('for', 9961)]\n",
      " \n",
      "32\n"
     ]
    }
   ],
   "source": [
    "all_words = []\n",
    "\n",
    "# Getting the list of all words\n",
    "for w in movie_reviews.words():\n",
    "    all_words.append(w.lower())\n",
    "    \n",
    "# Getting frequency of words\n",
    "all_words = nltk.FreqDist(all_words)\n",
    "\n",
    "# Print the most common words\n",
    "print(all_words.most_common(20))\n",
    "\n",
    "print(' ')\n",
    "\n",
    "# Printing the frequency of a word\n",
    "print(all_words['marvelous'])"
   ]
  },
  {
   "cell_type": "code",
   "execution_count": null,
   "metadata": {},
   "outputs": [],
   "source": []
  }
 ],
 "metadata": {
  "kernelspec": {
   "display_name": "Python 3",
   "language": "python",
   "name": "python3"
  },
  "language_info": {
   "codemirror_mode": {
    "name": "ipython",
    "version": 3
   },
   "file_extension": ".py",
   "mimetype": "text/x-python",
   "name": "python",
   "nbconvert_exporter": "python",
   "pygments_lexer": "ipython3",
   "version": "3.6.4"
  }
 },
 "nbformat": 4,
 "nbformat_minor": 2
}
