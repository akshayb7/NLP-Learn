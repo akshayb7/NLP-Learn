{
 "cells": [
  {
   "cell_type": "code",
   "execution_count": 2,
   "metadata": {},
   "outputs": [],
   "source": [
    "import nltk\n",
    "from nltk.corpus import state_union\n",
    "from nltk.tokenize import PunktSentenceTokenizer"
   ]
  },
  {
   "cell_type": "code",
   "execution_count": 3,
   "metadata": {},
   "outputs": [],
   "source": [
    "train_text = state_union.raw('2005-GWBush.txt')\n",
    "example_text = state_union.raw('2006-GWBush.txt')"
   ]
  },
  {
   "cell_type": "code",
   "execution_count": 4,
   "metadata": {},
   "outputs": [],
   "source": [
    "custom_sent_tokenizer = PunktSentenceTokenizer(train_text)\n",
    "tokenized = custom_sent_tokenizer.tokenize(example_text)"
   ]
  },
  {
   "cell_type": "code",
   "execution_count": 5,
   "metadata": {},
   "outputs": [],
   "source": [
    "def process_content():\n",
    "    try:\n",
    "        for i in tokenized[0:3]:\n",
    "            words = nltk.word_tokenize(i)\n",
    "            tagged = nltk.pos_tag(words)\n",
    "            \n",
    "            # The Regexp to make chunks \n",
    "            chunkGram = r'''Chunk: {<NNP>+}'''\n",
    "            \n",
    "            # Parser to create chunk\n",
    "            chunkParser = nltk.RegexpParser(chunkGram)\n",
    "            # Creating chunks from the text using the parser\n",
    "            chunked = chunkParser.parse(tagged)\n",
    "            \n",
    "            chunked.draw()\n",
    "    except Exception as e:\n",
    "        print(str(e))"
   ]
  },
  {
   "cell_type": "code",
   "execution_count": 6,
   "metadata": {},
   "outputs": [],
   "source": [
    "process_content()"
   ]
  },
  {
   "cell_type": "code",
   "execution_count": 9,
   "metadata": {},
   "outputs": [],
   "source": [
    "def process():\n",
    "    try:\n",
    "        for i in tokenized[0:2]:\n",
    "            words = nltk.word_tokenize(i)\n",
    "            tagged = nltk.pos_tag(words)\n",
    "            \n",
    "            chunkGram = r'''chunk: {<NNP>+<DT>?<NN.?>*}'''\n",
    "            chunkParser = nltk.RegexpParser(chunkGram)\n",
    "            chunked = chunkParser.parse(tagged)\n",
    "            # Print only tthe chunks\n",
    "            for subtree in chunked.subtrees(filter = lambda t:t.label() == 'chunk'):\n",
    "                print(subtree)\n",
    "            \n",
    "    except Exception as e:\n",
    "        print(str(e))"
   ]
  },
  {
   "cell_type": "code",
   "execution_count": 10,
   "metadata": {},
   "outputs": [
    {
     "name": "stdout",
     "output_type": "stream",
     "text": [
      "(chunk PRESIDENT/NNP GEORGE/NNP W./NNP BUSH/NNP)\n",
      "(chunk ADDRESS/NNP)\n",
      "(chunk A/NNP JOINT/NNP SESSION/NNP)\n",
      "(chunk THE/NNP CONGRESS/NNP ON/NNP THE/NNP STATE/NNP)\n",
      "(chunk THE/NNP UNION/NNP January/NNP)\n",
      "(chunk THE/NNP PRESIDENT/NNP)\n",
      "(chunk Thank/NNP)\n",
      "(chunk Mr./NNP Speaker/NNP)\n",
      "(chunk Vice/NNP President/NNP Cheney/NNP)\n",
      "(chunk Congress/NNP)\n",
      "(chunk Supreme/NNP Court/NNP)\n",
      "(chunk America/NNP)\n"
     ]
    }
   ],
   "source": [
    "process()"
   ]
  }
 ],
 "metadata": {
  "kernelspec": {
   "display_name": "Python 3",
   "language": "python",
   "name": "python3"
  },
  "language_info": {
   "codemirror_mode": {
    "name": "ipython",
    "version": 3
   },
   "file_extension": ".py",
   "mimetype": "text/x-python",
   "name": "python",
   "nbconvert_exporter": "python",
   "pygments_lexer": "ipython3",
   "version": "3.6.4"
  }
 },
 "nbformat": 4,
 "nbformat_minor": 2
}
