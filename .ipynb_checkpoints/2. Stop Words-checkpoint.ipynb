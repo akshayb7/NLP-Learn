{
 "cells": [
  {
   "cell_type": "code",
   "execution_count": 1,
   "metadata": {},
   "outputs": [],
   "source": [
    "from nltk.corpus import stopwords\n",
    "from nltk.tokenize import word_tokenize"
   ]
  },
  {
   "cell_type": "code",
   "execution_count": 2,
   "metadata": {},
   "outputs": [],
   "source": [
    "text = 'This is an example showcasing how to remove stop words from a sentence.'"
   ]
  },
  {
   "cell_type": "code",
   "execution_count": 7,
   "metadata": {},
   "outputs": [],
   "source": [
    "# We need to set the language for which we want the stopwords, as our corpora has a stop words for many languages\n",
    "stop_words = set(stopwords.words('english')) # Storing the stop words in a set"
   ]
  },
  {
   "cell_type": "code",
   "execution_count": 8,
   "metadata": {},
   "outputs": [
    {
     "name": "stdout",
     "output_type": "stream",
     "text": [
      "{'doing', 're', 'into', \"haven't\", 'yourselves', 'which', 'that', 'theirs', 'and', 'no', 'hers', 'some', 'wouldn', 'if', 'don', 'after', 'shouldn', 'hadn', 'same', \"aren't\", 'few', 'between', 'should', 'my', 'had', 'have', \"didn't\", 'for', \"hasn't\", \"shouldn't\", \"couldn't\", 'aren', 'both', \"needn't\", 'll', 'yourself', 'it', 'all', \"don't\", 'there', 'or', 'he', 'wasn', 'm', 'myself', 'her', 'against', 'do', 'while', \"mustn't\", 'its', 'who', 'shan', \"won't\", 'how', 'on', \"weren't\", 'won', \"you're\", 'not', 'once', 'off', 'further', 'whom', 'am', 't', 'about', 'me', 'up', 'during', 'couldn', 'to', 'when', 'above', 'o', 'why', \"you'd\", 'nor', 'ours', 'will', 'doesn', 'their', 'is', 'were', 'with', 'this', 'where', 'didn', 'now', 'most', 'mustn', 'are', 'from', 'they', 'i', \"you've\", 'below', 'did', 'those', 'out', 'very', 'until', 's', 'of', 'been', 'through', 'mightn', \"hadn't\", 'has', 'needn', 'down', \"doesn't\", 'yours', 'themselves', 'him', 'just', 'at', 'y', 'she', 'only', \"wasn't\", 'his', 'other', 'than', 'too', \"isn't\", 'your', 'itself', 'more', 've', 'each', 'can', 'isn', 'in', 'them', 'an', 'before', 'here', \"you'll\", \"wouldn't\", 'again', 'be', 'herself', 'haven', 'so', 'ourselves', 'own', 'a', 'we', 'then', 'the', 'hasn', \"mightn't\", 'weren', 'because', \"shan't\", 'himself', 'what', 'being', 'having', 'any', 'our', 'but', \"that'll\", \"she's\", 'over', 'ain', 'by', 'such', 'as', 'under', \"should've\", 'd', 'ma', 'you', \"it's\", 'does', 'these', 'was'}\n"
     ]
    }
   ],
   "source": [
    "print(stop_words)"
   ]
  },
  {
   "cell_type": "code",
   "execution_count": 10,
   "metadata": {},
   "outputs": [
    {
     "name": "stdout",
     "output_type": "stream",
     "text": [
      "['This', 'is', 'an', 'example', 'showcasing', 'how', 'to', 'remove', 'stop', 'words', 'from', 'a', 'sentence', '.']\n"
     ]
    }
   ],
   "source": [
    "words = word_tokenize(text)\n",
    "print(words)"
   ]
  },
  {
   "cell_type": "code",
   "execution_count": 12,
   "metadata": {},
   "outputs": [
    {
     "name": "stdout",
     "output_type": "stream",
     "text": [
      "['This', 'example', 'showcasing', 'remove', 'stop', 'words', 'sentence', '.']\n"
     ]
    }
   ],
   "source": [
    "# Removing the stop words\n",
    "filtered_words = []\n",
    "for w in words:\n",
    "    if w not in stop_words:\n",
    "        filtered_words.append(w)\n",
    "        \n",
    "print(filtered_words)        "
   ]
  },
  {
   "cell_type": "code",
   "execution_count": 14,
   "metadata": {},
   "outputs": [
    {
     "name": "stdout",
     "output_type": "stream",
     "text": [
      "['This', 'example', 'showcasing', 'remove', 'stop', 'words', 'sentence', '.']\n"
     ]
    }
   ],
   "source": [
    "# We can re-write this in list concatination form \n",
    "\n",
    "filtered_words = [w for w in words if w not in stop_words]\n",
    "\n",
    "print(filtered_words)"
   ]
  },
  {
   "cell_type": "markdown",
   "metadata": {},
   "source": [
    "Removing stop words doesn't change the meaning of the sentence but saves us computational power by removing unnecessary words (not required for any analysis)"
   ]
  }
 ],
 "metadata": {
  "kernelspec": {
   "display_name": "Python 3",
   "language": "python",
   "name": "python3"
  },
  "language_info": {
   "codemirror_mode": {
    "name": "ipython",
    "version": 3
   },
   "file_extension": ".py",
   "mimetype": "text/x-python",
   "name": "python",
   "nbconvert_exporter": "python",
   "pygments_lexer": "ipython3",
   "version": "3.6.4"
  }
 },
 "nbformat": 4,
 "nbformat_minor": 2
}
