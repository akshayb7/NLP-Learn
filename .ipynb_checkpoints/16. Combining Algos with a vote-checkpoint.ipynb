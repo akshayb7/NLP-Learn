{
 "cells": [
  {
   "cell_type": "code",
   "execution_count": 1,
   "metadata": {},
   "outputs": [],
   "source": [
    "import nltk\n",
    "from nltk.corpus import movie_reviews\n",
    "from nltk.classify import ClassifierI, SklearnClassifier, accuracy\n",
    "\n",
    "from sklearn.linear_model import LogisticRegression, SGDClassifier\n",
    "from sklearn.naive_bayes import BernoulliNB, MultinomialNB\n",
    "from sklearn.svm import LinearSVC, NuSVC\n",
    "\n",
    "import random\n",
    "import pickle \n",
    "\n",
    "from statistics import mode"
   ]
  },
  {
   "cell_type": "code",
   "execution_count": 2,
   "metadata": {},
   "outputs": [],
   "source": [
    "random.seed(42)"
   ]
  },
  {
   "cell_type": "markdown",
   "metadata": {},
   "source": [
    "Let's define a class to combine the algorithms to have a vote"
   ]
  },
  {
   "cell_type": "code",
   "execution_count": 3,
   "metadata": {},
   "outputs": [],
   "source": [
    "class VoteClassifier(ClassifierI): #Inherit properties \n",
    "    \n",
    "    def __init__(self, *classifiers): \n",
    "        self.classifiers = classifiers\n",
    "        \n",
    "    def classify(self, features):\n",
    "        votes = []  # Votes from different classifiers will be stored\n",
    "        for c in self.classifiers: # Iterating through each classifier\n",
    "            v = c.classify(features) # Getting the vote for current classifier\n",
    "            votes.append(v) # Appending the current vote to list\n",
    "        return mode(votes) # Returning the category with most votes\n",
    "    \n",
    "    def confidence(self, features):\n",
    "        votes = []\n",
    "        for c in self.classifiers:\n",
    "            v = c.classify(features)\n",
    "            votes.append(v)\n",
    "        vote_count = votes.count(mode(votes)) # Counting the number of occurances of mode in the votes list\n",
    "        conf = vote_count/len(votes) # Calculating confiednce\n",
    "        return conf "
   ]
  },
  {
   "cell_type": "code",
   "execution_count": 4,
   "metadata": {},
   "outputs": [],
   "source": [
    "documents = [(list(movie_reviews.words(fileid)), category)\n",
    "            for category in movie_reviews.categories()\n",
    "            for fileid in movie_reviews.fileids(category)]"
   ]
  },
  {
   "cell_type": "code",
   "execution_count": 5,
   "metadata": {},
   "outputs": [],
   "source": [
    "random.shuffle(documents)"
   ]
  },
  {
   "cell_type": "code",
   "execution_count": 6,
   "metadata": {},
   "outputs": [],
   "source": [
    "all_words = []\n",
    "for w in movie_reviews.words():\n",
    "    all_words.append(w.lower())\n",
    "    \n",
    "all_words = nltk.FreqDist(all_words)\n",
    "\n",
    "feature_words = list(all_words.keys())[:4000]"
   ]
  },
  {
   "cell_type": "code",
   "execution_count": 7,
   "metadata": {},
   "outputs": [],
   "source": [
    "def create_features(document):\n",
    "    words = set(document)\n",
    "    features = {}\n",
    "    for w in feature_words:\n",
    "        features[w] = (w in words)\n",
    "    return features    "
   ]
  },
  {
   "cell_type": "code",
   "execution_count": 8,
   "metadata": {},
   "outputs": [],
   "source": [
    "featureset = [(create_features(doc), category) \n",
    "              for (doc, category) in documents ]"
   ]
  },
  {
   "cell_type": "code",
   "execution_count": 9,
   "metadata": {},
   "outputs": [],
   "source": [
    "training_set = featureset[:1900]\n",
    "testing_set = featureset[1900:]"
   ]
  },
  {
   "cell_type": "code",
   "execution_count": 10,
   "metadata": {},
   "outputs": [
    {
     "name": "stdout",
     "output_type": "stream",
     "text": [
      "acc: 75.0\n"
     ]
    }
   ],
   "source": [
    "classifier = nltk.NaiveBayesClassifier.train(training_set)\n",
    "print('acc:', nltk.classify.accuracy(classifier, testing_set)*100)"
   ]
  },
  {
   "cell_type": "code",
   "execution_count": 11,
   "metadata": {},
   "outputs": [
    {
     "name": "stdout",
     "output_type": "stream",
     "text": [
      "LogisticRegression_Classifier accuracy: 81.0\n"
     ]
    }
   ],
   "source": [
    "LogisticRegression_Classifier = SklearnClassifier(LogisticRegression())\n",
    "LogisticRegression_Classifier.train(training_set)\n",
    "print('LogisticRegression_Classifier accuracy:', accuracy(LogisticRegression_Classifier, testing_set)*100)"
   ]
  },
  {
   "cell_type": "code",
   "execution_count": 12,
   "metadata": {},
   "outputs": [
    {
     "name": "stderr",
     "output_type": "stream",
     "text": [
      "C:\\Users\\aksha\\Anaconda3\\lib\\site-packages\\sklearn\\linear_model\\stochastic_gradient.py:128: FutureWarning: max_iter and tol parameters have been added in <class 'sklearn.linear_model.stochastic_gradient.SGDClassifier'> in 0.19. If both are left unset, they default to max_iter=5 and tol=None. If tol is not None, max_iter defaults to max_iter=1000. From 0.21, default max_iter will be 1000, and default tol will be 1e-3.\n",
      "  \"and default tol will be 1e-3.\" % type(self), FutureWarning)\n"
     ]
    },
    {
     "name": "stdout",
     "output_type": "stream",
     "text": [
      "SGDClassifier_Classifier accuracy: 79.0\n"
     ]
    }
   ],
   "source": [
    "SGDClassifier_Classifier = SklearnClassifier(SGDClassifier())\n",
    "SGDClassifier_Classifier.train(training_set)\n",
    "print('SGDClassifier_Classifier accuracy:', accuracy(SGDClassifier_Classifier, testing_set)*100)"
   ]
  },
  {
   "cell_type": "code",
   "execution_count": 13,
   "metadata": {},
   "outputs": [
    {
     "name": "stdout",
     "output_type": "stream",
     "text": [
      "BernoulliNB_Classifier accuracy: 76.0\n"
     ]
    }
   ],
   "source": [
    "BernoulliNB_Classifier = SklearnClassifier(BernoulliNB())\n",
    "BernoulliNB_Classifier.train(training_set)\n",
    "print('BernoulliNB_Classifier accuracy:', accuracy(BernoulliNB_Classifier, testing_set)*100)"
   ]
  },
  {
   "cell_type": "code",
   "execution_count": 14,
   "metadata": {},
   "outputs": [
    {
     "name": "stdout",
     "output_type": "stream",
     "text": [
      "MultinomialNB_Classifier accuracy: 77.0\n"
     ]
    }
   ],
   "source": [
    "MultinomialNB_Classifier = SklearnClassifier(MultinomialNB())\n",
    "MultinomialNB_Classifier.train(training_set)\n",
    "print('MultinomialNB_Classifier accuracy:', accuracy(MultinomialNB_Classifier, testing_set)*100)"
   ]
  },
  {
   "cell_type": "code",
   "execution_count": 15,
   "metadata": {},
   "outputs": [
    {
     "name": "stdout",
     "output_type": "stream",
     "text": [
      "LinearSVC_Classifier accuracy: 77.0\n"
     ]
    }
   ],
   "source": [
    "LinearSVC_Classifier = SklearnClassifier(LinearSVC())\n",
    "LinearSVC_Classifier.train(training_set)\n",
    "print('LinearSVC_Classifier accuracy:', accuracy(LinearSVC_Classifier, testing_set)*100)"
   ]
  },
  {
   "cell_type": "code",
   "execution_count": 16,
   "metadata": {},
   "outputs": [
    {
     "name": "stdout",
     "output_type": "stream",
     "text": [
      "NuSVC_Classifier accuracy: 83.0\n"
     ]
    }
   ],
   "source": [
    "NuSVC_Classifier = SklearnClassifier(NuSVC())\n",
    "NuSVC_Classifier.train(training_set)\n",
    "print('NuSVC_Classifier accuracy:', accuracy(NuSVC_Classifier, testing_set)*100)"
   ]
  },
  {
   "cell_type": "markdown",
   "metadata": {},
   "source": [
    "Next, let's use the voting class VoteClassifier as defined above."
   ]
  },
  {
   "cell_type": "code",
   "execution_count": 17,
   "metadata": {},
   "outputs": [],
   "source": [
    "voted_classifier = VoteClassifier(classifier,\n",
    "                                 LogisticRegression_Classifier,\n",
    "                                 SGDClassifier_Classifier,\n",
    "                                 BernoulliNB_Classifier,\n",
    "                                 MultinomialNB_Classifier,\n",
    "                                 LinearSVC_Classifier,\n",
    "                                 NuSVC_Classifier)"
   ]
  },
  {
   "cell_type": "code",
   "execution_count": 18,
   "metadata": {},
   "outputs": [
    {
     "name": "stdout",
     "output_type": "stream",
     "text": [
      "Voted_classifier accuracy: 75.0\n"
     ]
    }
   ],
   "source": [
    "print('Voted_classifier accuracy:', accuracy(voted_classifier, testing_set)*100)"
   ]
  },
  {
   "cell_type": "code",
   "execution_count": 19,
   "metadata": {},
   "outputs": [
    {
     "name": "stdout",
     "output_type": "stream",
     "text": [
      "Classification: neg, Confidence %: 100.0\n"
     ]
    }
   ],
   "source": [
    "print('Classification: {}, Confidence %: {}'.format(voted_classifier.classify(testing_set[0][0]),\n",
    "                                                  voted_classifier.confidence(testing_set[0][0])*100))"
   ]
  },
  {
   "cell_type": "code",
   "execution_count": 20,
   "metadata": {},
   "outputs": [
    {
     "name": "stdout",
     "output_type": "stream",
     "text": [
      "Classification: pos, Confidence %: 57.14285714285714\n",
      "Classification: neg, Confidence %: 100.0\n",
      "Classification: pos, Confidence %: 100.0\n",
      "Classification: pos, Confidence %: 85.71428571428571\n",
      "Classification: pos, Confidence %: 100.0\n"
     ]
    }
   ],
   "source": [
    "print('Classification: {}, Confidence %: {}'.format(voted_classifier.classify(testing_set[1][0]),\n",
    "                                                  voted_classifier.confidence(testing_set[1][0])*100))\n",
    "print('Classification: {}, Confidence %: {}'.format(voted_classifier.classify(testing_set[2][0]),\n",
    "                                                  voted_classifier.confidence(testing_set[2][0])*100))\n",
    "print('Classification: {}, Confidence %: {}'.format(voted_classifier.classify(testing_set[3][0]),\n",
    "                                                  voted_classifier.confidence(testing_set[3][0])*100))\n",
    "print('Classification: {}, Confidence %: {}'.format(voted_classifier.classify(testing_set[4][0]),\n",
    "                                                  voted_classifier.confidence(testing_set[4][0])*100))\n",
    "print('Classification: {}, Confidence %: {}'.format(voted_classifier.classify(testing_set[5][0]),\n",
    "                                                  voted_classifier.confidence(testing_set[5][0])*100))"
   ]
  }
 ],
 "metadata": {
  "kernelspec": {
   "display_name": "Python 3",
   "language": "python",
   "name": "python3"
  },
  "language_info": {
   "codemirror_mode": {
    "name": "ipython",
    "version": 3
   },
   "file_extension": ".py",
   "mimetype": "text/x-python",
   "name": "python",
   "nbconvert_exporter": "python",
   "pygments_lexer": "ipython3",
   "version": "3.6.4"
  }
 },
 "nbformat": 4,
 "nbformat_minor": 2
}
